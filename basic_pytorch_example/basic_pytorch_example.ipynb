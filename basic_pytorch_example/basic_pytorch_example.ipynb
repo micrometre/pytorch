{
    "cells": [
        {
            "cell_type": "markdown",
            "id": "#VSC-fe0e83ff",
            "metadata": {
                "language": "markdown"
            },
            "source": [
                "# Basic PyTorch Example Notebook\n",
                "This notebook demonstrates very basic usage of PyTorch, including tensor creation, operations, and a simple neural network."
            ]
        },
        {
            "cell_type": "markdown",
            "id": "#VSC-3c63d6ef",
            "metadata": {
                "language": "markdown"
            },
            "source": [
                "## 1. Import PyTorch Library\n",
                "Import the torch library to use PyTorch functionalities."
            ]
        },
        {
            "cell_type": "code",
            "execution_count": 12,
            "id": "#VSC-1f2f5bbd",
            "metadata": {
                "language": "python"
            },
            "outputs": [],
            "source": [
                "import torch\n",
                "import torch.nn as nn\n",
                "from torch.utils.tensorboard import SummaryWriter"
            ]
        },
        {
            "cell_type": "markdown",
            "id": "#VSC-52bf0b54",
            "metadata": {
                "language": "markdown"
            },
            "source": [
                "## 2. Create a Tensor\n",
                "Create a simple tensor using torch.tensor and display its properties."
            ]
        },
        {
            "cell_type": "code",
            "execution_count": 13,
            "id": "#VSC-f29e40c2",
            "metadata": {
                "language": "python"
            },
            "outputs": [
                {
                    "name": "stdout",
                    "output_type": "stream",
                    "text": [
                        "Tensor: tensor([1, 2, 3])\n",
                        "Shape: torch.Size([3])\n",
                        "Data type: torch.int64\n"
                    ]
                }
            ],
            "source": [
                "# Create a tensor\n",
                "tensor_a = torch.tensor([1, 2, 3])\n",
                "print('Tensor:', tensor_a)\n",
                "print('Shape:', tensor_a.shape)\n",
                "print('Data type:', tensor_a.dtype)"
            ]
        },
        {
            "cell_type": "markdown",
            "id": "#VSC-bbfe5a23",
            "metadata": {
                "language": "markdown"
            },
            "source": [
                "## 3. Perform Basic Tensor Operations\n",
                "Demonstrate basic operations such as addition, multiplication, and reshaping on tensors."
            ]
        },
        {
            "cell_type": "code",
            "execution_count": 14,
            "id": "#VSC-14038267",
            "metadata": {
                "language": "python"
            },
            "outputs": [
                {
                    "name": "stdout",
                    "output_type": "stream",
                    "text": [
                        "Addition: tensor([5, 7, 9])\n",
                        "Multiplication: tensor([ 4, 10, 18])\n",
                        "Reshaped: tensor([[1],\n",
                        "        [2],\n",
                        "        [3]])\n"
                    ]
                }
            ],
            "source": [
                "# Basic tensor operations\n",
                "tensor_b = torch.tensor([4, 5, 6])\n",
                "add_result = tensor_a + tensor_b\n",
                "mul_result = tensor_a * tensor_b\n",
                "reshaped = tensor_a.reshape(3, 1)\n",
                "print('Addition:', add_result)\n",
                "print('Multiplication:', mul_result)\n",
                "print('Reshaped:', reshaped)"
            ]
        },
        {
            "cell_type": "markdown",
            "id": "#VSC-eee7a134",
            "metadata": {
                "language": "markdown"
            },
            "source": [
                "## 4. Define a Simple Neural Network\n",
                "Use torch.nn.Module to define a minimal neural network with one linear layer."
            ]
        },
        {
            "cell_type": "code",
            "execution_count": 15,
            "id": "#VSC-45dc4282",
            "metadata": {
                "language": "python"
            },
            "outputs": [],
            "source": [
                "# Define a simple neural network\n",
                "class SimpleNet(nn.Module):\n",
                "    def __init__(self):\n",
                "        super(SimpleNet, self).__init__()\n",
                "        self.fc = nn.Linear(3, 1)  # Linear layer: input size 3, output size 1\n",
                "    def forward(self, x):\n",
                "        return self.fc(x)\n",
                "\n",
                "net = SimpleNet()"
            ]
        },
        {
            "cell_type": "markdown",
            "id": "#VSC-910dc75a",
            "metadata": {
                "language": "markdown"
            },
            "source": [
                "## 5. Forward Pass with Sample Data\n",
                "Pass a sample tensor through the neural network and display the output."
            ]
        },
        {
            "cell_type": "code",
            "execution_count": 16,
            "id": "#VSC-44c29471",
            "metadata": {
                "language": "python"
            },
            "outputs": [
                {
                    "name": "stdout",
                    "output_type": "stream",
                    "text": [
                        "Network output: tensor([[-0.5075]], grad_fn=<AddmmBackward0>)\n"
                    ]
                }
            ],
            "source": [
                "# Forward pass with sample data\n",
                "sample_input = torch.tensor([[1.0, 2.0, 3.0]])  # Batch size 1, input size 3\n",
                "output = net(sample_input)\n",
                "print('Network output:', output)"
            ]
        },
        {
            "cell_type": "markdown",
            "id": "#VSC-12345678",
            "metadata": {
                "language": "markdown"
            },
            "source": [
                "## 6. TensorBoard Integration\n",
                "Integrate TensorBoard to visualize training metrics.\n",
                "This section will log the output of the neural network to TensorBoard."
            ]
        },
        {
            "cell_type": "code",
            "execution_count": 17,
            "id": "#VSC-87654321",
            "metadata": {
                "language": "python"
            },
            "outputs": [],
            "source": [
                "# Set up TensorBoard writer\n",
                "writer = SummaryWriter()\n",
                "\n",
                "# Log the output to TensorBoard\n",
                "writer.add_scalar('Output', output.item(), 0)  # Log the output at step 0\n",
                "\n",
                "# Close the writer\n",
                "writer.close()"
            ]
        }
    ],
    "metadata": {
        "kernelspec": {
            "display_name": ".venv",
            "language": "python",
            "name": "python3"
        },
        "language_info": {
            "codemirror_mode": {
                "name": "ipython",
                "version": 3
            },
            "file_extension": ".py",
            "mimetype": "text/x-python",
            "name": "python",
            "nbconvert_exporter": "python",
            "pygments_lexer": "ipython3",
            "version": "3.10.12"
        }
    },
    "nbformat": 4,
    "nbformat_minor": 5
}
